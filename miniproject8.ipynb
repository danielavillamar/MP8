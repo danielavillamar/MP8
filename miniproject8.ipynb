{
 "cells": [
  {
   "cell_type": "markdown",
   "metadata": {},
   "source": [
    "## MiniProyecto 8"
   ]
  },
  {
   "cell_type": "markdown",
   "metadata": {},
   "source": [
    "En este caso se implementará un algoritmo genético para el Traveling Salesman Problem"
   ]
  },
  {
   "cell_type": "code",
   "execution_count": 2,
   "metadata": {},
   "outputs": [],
   "source": [
    "from random import randint"
   ]
  },
  {
   "cell_type": "markdown",
   "metadata": {},
   "source": [
    "Se instancian los primeros parametros."
   ]
  },
  {
   "cell_type": "code",
   "execution_count": 6,
   "metadata": {},
   "outputs": [],
   "source": [
    "# Número de ciudades\n",
    "K = 5\n",
    "\n",
    "# Input máximo de distancias\n",
    "MAXINPUT = 2343213532\n",
    "\n",
    "# Tamaño de la población inicial\n",
    "POPULATION_SIZE = 10"
   ]
  },
  {
   "cell_type": "markdown",
   "metadata": {},
   "source": [
    "Realizamos las siguientes funciones útiles, la primera para devolver un número aleatorio de principio a fin,\n",
    "la segunda para comprobar si un carácter ya estuvo en una cadena y la última para devolver el valor actualizado de un elemento en cooldown."
   ]
  },
  {
   "cell_type": "code",
   "execution_count": 7,
   "metadata": {},
   "outputs": [],
   "source": [
    "def randomNumer(start, end):\n",
    "    return randint(start, end-1)"
   ]
  },
  {
   "cell_type": "code",
   "execution_count": 8,
   "metadata": {},
   "outputs": [],
   "source": [
    "def recurrent(s, ch):\n",
    "    for i in range(len(s)):\n",
    "        if s[i] == ch:\n",
    "            return True\n",
    " \n",
    "    return False"
   ]
  },
  {
   "cell_type": "code",
   "execution_count": 12,
   "metadata": {},
   "outputs": [],
   "source": [
    "def cooldown(t):\n",
    "    return (90 * t) / 100"
   ]
  },
  {
   "cell_type": "markdown",
   "metadata": {},
   "source": [
    "La siguiente es una función objetivo para devolver una cadena válida necesaria para crear la población."
   ]
  },
  {
   "cell_type": "code",
   "execution_count": 13,
   "metadata": {},
   "outputs": [],
   "source": [
    "def objetiveFunction():\n",
    "    g = \"0\"\n",
    "    while True:\n",
    "        if len(g) == K:\n",
    "            g += g[0]\n",
    "            break\n",
    " \n",
    "        t = randomNumer(1, K)\n",
    "        if not recurrent(g, chr(t + 48)):\n",
    "            g += chr(t + 48)\n",
    " \n",
    "    return g"
   ]
  },
  {
   "cell_type": "markdown",
   "metadata": {},
   "source": [
    "La segunda función es nuestra función de mutación, la cual es una cadena con un intercambio aleatorio de dos genes. "
   ]
  },
  {
   "cell_type": "code",
   "execution_count": 14,
   "metadata": {},
   "outputs": [],
   "source": [
    "def mutationFunction(g):\n",
    "    g = list(g)\n",
    "    while True:\n",
    "        r = randomNumer(1, K)\n",
    "        r1 = randomNumer(1, K)\n",
    "        if r1 != r:\n",
    "            t = g[r]\n",
    "            g[r] = g[r1]\n",
    "            g[r1] = t\n",
    "            break\n",
    "    return ''.join(g)"
   ]
  },
  {
   "cell_type": "markdown",
   "metadata": {},
   "source": [
    "Función selección para elegir a los progenitores de la siguiente generación en el algoritmo."
   ]
  },
  {
   "cell_type": "code",
   "execution_count": 17,
   "metadata": {},
   "outputs": [],
   "source": [
    "def selectionFunction(g):\n",
    "    arr = [\n",
    "        [0, 2, MAXINPUT, 12, 5],\n",
    "        [2, 0, 4, 8, MAXINPUT],\n",
    "        [MAXINPUT, 4, 0, 3, 3],\n",
    "        [12, 8, 3, 0, 10],\n",
    "        [5, MAXINPUT, 3, 10, 0],\n",
    "    ]\n",
    "    f = 0\n",
    "    for i in range(len(g) - 1):\n",
    "        if arr[ord(g[i]) - 48][ord(g[i + 1]) - 48] == MAXINPUT:\n",
    "            return MAXINPUT\n",
    "        f += arr[ord(g[i]) - 48][ord(g[i + 1]) - 48]\n",
    " \n",
    "    return f"
   ]
  },
  {
   "cell_type": "markdown",
   "metadata": {},
   "source": [
    "Aquí se estructura un gnome, definiendo el camino recorrido por el vendedor mientras que el valor para relacionar la optimización del camino se almacena en un entero"
   ]
  },
  {
   "cell_type": "code",
   "execution_count": 16,
   "metadata": {},
   "outputs": [],
   "source": [
    "class independent:\n",
    "    def __init__(self) -> None:\n",
    "        self.gnome = \"\"\n",
    "        self.fitness = 0\n",
    " \n",
    "    def __lt__(self, other):\n",
    "        return self.fitness < other.fitness\n",
    " \n",
    "    def __gt__(self, other):\n",
    "        return self.fitness > other.fitness"
   ]
  },
  {
   "cell_type": "markdown",
   "metadata": {},
   "source": [
    "Se procede a crear la función para producir el TSP"
   ]
  },
  {
   "cell_type": "code",
   "execution_count": 35,
   "metadata": {},
   "outputs": [],
   "source": [
    "def TravelingSalesmanProblem(arr):\n",
    "\n",
    "    generationNumber = 1\n",
    "    geneIterations = 10\n",
    " \n",
    "    inhabitants = []\n",
    "    t = independent()\n",
    " \n",
    "    for i in range(POPULATION_SIZE):\n",
    "        t.gnome = objetiveFunction()\n",
    "        t.fitness = selectionFunction(t.gnome)\n",
    "        inhabitants.append(t)\n",
    " \n",
    "    print(\"\\nPoblación inicial:\")\n",
    "    for i in range(POPULATION_SIZE):\n",
    "        print(inhabitants[i].gnome, inhabitants[i].fitness)\n",
    "    print()\n",
    " \n",
    "    inPlace = False\n",
    "    temperature = 10000\n",
    " \n",
    "    # Aquí se procede a realizar el crossing\n",
    "    while temperature > 1000 and generationNumber <= geneIterations:\n",
    "        inhabitants.sort()\n",
    "        print(\"\\nTemperatura actual: \", temperature)\n",
    "        newInhabitants = []\n",
    " \n",
    "        for i in range(POPULATION_SIZE):\n",
    "            p1 = inhabitants[i]\n",
    " \n",
    "            while True:\n",
    "                newG = mutationFunction(p1.gnome)\n",
    "                newGnome = independent()\n",
    "                newGnome.gnome = newG\n",
    "                newGnome.fitness = selectionFunction(newGnome.gnome)\n",
    " \n",
    "                if newGnome.fitness <= inhabitants[i].fitness:\n",
    "                    newInhabitants.append(newGnome)\n",
    "                    break\n",
    " \n",
    "                else:\n",
    " \n",
    "    # Se aceptan los hijos rechazados media vez la probabilidad de aceptacion sea la correcta\n",
    "                    probability = pow(\n",
    "                        2.7,\n",
    "                        -1\n",
    "                        * (\n",
    "                            (float)(newGnome.fitness - inhabitants[i].fitness)\n",
    "                            / temperature\n",
    "                        ),\n",
    "                    )\n",
    "                    if probability > 0.5:\n",
    "                        newInhabitants.append(newGnome)\n",
    "                        break\n",
    " \n",
    "        temperature = cooldown(temperature)\n",
    "        inhabitants = newInhabitants\n",
    "        print(\"Generación: \", generationNumber)\n",
    "        print(\"gnome  valor mas óptimo\")\n",
    " \n",
    "        for i in range(POPULATION_SIZE):\n",
    "            print(inhabitants[i].gnome, inhabitants[i].fitness)\n",
    "        generationNumber += 1"
   ]
  },
  {
   "cell_type": "markdown",
   "metadata": {},
   "source": [
    "Por último se procede a crear un array para simular nuestro TSP, notese que a partir de las últimas iteraciones se encuentran las mejores rutas."
   ]
  },
  {
   "cell_type": "code",
   "execution_count": 36,
   "metadata": {},
   "outputs": [
    {
     "name": "stdout",
     "output_type": "stream",
     "text": [
      "\n",
      "Población inicial:\n",
      "041230 2343213532\n",
      "041230 2343213532\n",
      "041230 2343213532\n",
      "041230 2343213532\n",
      "041230 2343213532\n",
      "041230 2343213532\n",
      "041230 2343213532\n",
      "041230 2343213532\n",
      "041230 2343213532\n",
      "041230 2343213532\n",
      "\n",
      "\n",
      "Temperatura actual:  10000\n",
      "Generación:  1\n",
      "gnome  valor mas óptimo\n",
      "043210 24\n",
      "021430 2343213532\n",
      "021430 2343213532\n",
      "014230 2343213532\n",
      "014230 2343213532\n",
      "014230 2343213532\n",
      "031240 32\n",
      "021430 2343213532\n",
      "021430 2343213532\n",
      "031240 32\n",
      "\n",
      "Temperatura actual:  9000.0\n",
      "Generación:  2\n",
      "gnome  valor mas óptimo\n",
      "042310 21\n",
      "013240 21\n",
      "034210 31\n",
      "024130 2343213532\n",
      "021340 2343213532\n",
      "041230 2343213532\n",
      "034210 31\n",
      "012430 31\n",
      "021340 2343213532\n",
      "021340 2343213532\n",
      "\n",
      "Temperatura actual:  8100.0\n",
      "Generación:  3\n",
      "gnome  valor mas óptimo\n",
      "043210 24\n",
      "043210 24\n",
      "043210 24\n",
      "031240 32\n",
      "012340 24\n",
      "023140 2343213532\n",
      "012340 24\n",
      "041320 2343213532\n",
      "012340 24\n",
      "031240 32\n",
      "\n",
      "Temperatura actual:  7290.0\n",
      "Generación:  4\n",
      "gnome  valor mas óptimo\n",
      "034210 31\n",
      "042310 21\n",
      "013240 21\n",
      "013240 21\n",
      "013240 21\n",
      "013240 21\n",
      "013240 21\n",
      "034210 31\n",
      "021340 2343213532\n",
      "042310 21\n",
      "\n",
      "Temperatura actual:  6561.0\n",
      "Generación:  5\n",
      "gnome  valor mas óptimo\n",
      "042130 32\n",
      "031240 32\n",
      "031240 32\n",
      "012340 24\n",
      "012340 24\n",
      "031240 32\n",
      "012340 24\n",
      "031240 32\n",
      "031240 32\n",
      "012340 24\n",
      "\n",
      "Temperatura actual:  5904.9\n",
      "Generación:  6\n",
      "gnome  valor mas óptimo\n",
      "012430 31\n",
      "042310 21\n",
      "042310 21\n",
      "042310 21\n",
      "012430 31\n",
      "013240 21\n",
      "013240 21\n",
      "034210 31\n",
      "034210 31\n",
      "034210 31\n",
      "\n",
      "Temperatura actual:  5314.41\n",
      "Generación:  7\n",
      "gnome  valor mas óptimo\n",
      "012340 24\n",
      "012340 24\n",
      "042130 32\n",
      "043210 24\n",
      "031240 32\n",
      "042130 32\n",
      "042130 32\n",
      "031240 32\n",
      "043210 24\n",
      "043210 24\n",
      "\n",
      "Temperatura actual:  4782.969\n",
      "Generación:  8\n",
      "gnome  valor mas óptimo\n",
      "013240 21\n",
      "042310 21\n",
      "042310 21\n",
      "013240 21\n",
      "034210 31\n",
      "042310 21\n",
      "034210 31\n",
      "042310 21\n",
      "042310 21\n",
      "013240 21\n",
      "\n",
      "Temperatura actual:  4304.6721\n",
      "Generación:  9\n",
      "gnome  valor mas óptimo\n",
      "031240 32\n",
      "043210 24\n",
      "012340 24\n",
      "012340 24\n",
      "042130 32\n",
      "042130 32\n",
      "043210 24\n",
      "031240 32\n",
      "031240 32\n",
      "043210 24\n",
      "\n",
      "Temperatura actual:  3874.20489\n",
      "Generación:  10\n",
      "gnome  valor mas óptimo\n",
      "013240 21\n",
      "042310 21\n",
      "012430 31\n",
      "042310 21\n",
      "034210 31\n",
      "013240 21\n",
      "012430 31\n",
      "042310 21\n",
      "013240 21\n",
      "013240 21\n"
     ]
    }
   ],
   "source": [
    "arr = [\n",
    "    [4, 4, MAXINPUT, 34, 7],\n",
    "    [4, 2, 4, 10, MAXINPUT],\n",
    "    [3, MAXINPUT, 2, 4, 3],\n",
    "    [34, 10, 3, 2, 32],\n",
    "    [7, MAXINPUT, 3, 32, 2],\n",
    "    ]\n",
    "\n",
    "TravelingSalesmanProblem(arr)"
   ]
  }
 ],
 "metadata": {
  "kernelspec": {
   "display_name": "Python 3.8.10 64-bit",
   "language": "python",
   "name": "python3"
  },
  "language_info": {
   "codemirror_mode": {
    "name": "ipython",
    "version": 3
   },
   "file_extension": ".py",
   "mimetype": "text/x-python",
   "name": "python",
   "nbconvert_exporter": "python",
   "pygments_lexer": "ipython3",
   "version": "3.8.10"
  },
  "orig_nbformat": 4,
  "vscode": {
   "interpreter": {
    "hash": "9650cb4e16cdd4a8e8e2d128bf38d875813998db22a3c986335f89e0cb4d7bb2"
   }
  }
 },
 "nbformat": 4,
 "nbformat_minor": 2
}
